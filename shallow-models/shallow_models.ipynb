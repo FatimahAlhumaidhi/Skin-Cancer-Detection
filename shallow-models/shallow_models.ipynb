{
  "cells": [
    {
      "cell_type": "code",
      "execution_count": null,
      "metadata": {
        "id": "vx7EzK1pTcrN"
      },
      "outputs": [],
      "source": [
        "!pip install scikit-learn-intelex "
      ]
    },
    {
      "cell_type": "code",
      "execution_count": 3,
      "metadata": {
        "colab": {
          "base_uri": "https://localhost:8080/"
        },
        "id": "BwP7VRomTcrW",
        "outputId": "e4d21711-1471-45cb-c5fb-5c9efc8427bd"
      },
      "outputs": [
        {
          "name": "stderr",
          "output_type": "stream",
          "text": [
            "Intel(R) Extension for Scikit-learn* enabled (https://github.com/intel/scikit-learn-intelex)\n"
          ]
        }
      ],
      "source": [
        "from sklearnex import patch_sklearn\n",
        "patch_sklearn()\n",
        "import pandas as pd\n",
        "from sklearn.model_selection import train_test_split\n",
        "from sklearn.preprocessing import StandardScaler\n",
        "from sklearn.metrics import classification_report \n",
        "from sklearn.model_selection import GridSearchCV\n",
        "from sklearn.ensemble import StackingClassifier, RandomForestClassifier, AdaBoostClassifier\n",
        "from sklearn.linear_model import LogisticRegression\n",
        "from sklearn.model_selection import KFold\n",
        "from sklearn.svm import SVC\n",
        "import pickle "
      ]
    },
    {
      "cell_type": "code",
      "execution_count": 4,
      "metadata": {
        "id": "dGnS9_qiTcrZ"
      },
      "outputs": [],
      "source": [
        "dataset = pd.read_csv('imagesFeatures.csv')\n",
        "\n",
        "x_train, x_test, y_train, y_test = train_test_split(dataset.drop(columns = ['Y']).values, dataset['Y'].values, test_size = 0.2)\n",
        "\n",
        "ss = StandardScaler()\n",
        "x_train = ss.fit_transform(x_train) \n",
        "x_test = ss.transform(x_test)"
      ]
    },
    {
      "cell_type": "code",
      "execution_count": 9,
      "metadata": {
        "colab": {
          "base_uri": "https://localhost:8080/"
        },
        "id": "l0EBBRN-Tcrb",
        "outputId": "60504575-4165-4467-9de2-1f7f95bdfcd4"
      },
      "outputs": [
        {
          "data": {
            "text/plain": [
              "GridSearchCV(cv=5, estimator=SVC(),\n",
              "             param_grid=[{'C': [1, 10, 100], 'gamma': ['auto', 'scale'],\n",
              "                          'kernel': ['rbf']},\n",
              "                         {'C': [1, 10, 100], 'kernel': ['linear']}])"
            ]
          },
          "execution_count": 9,
          "metadata": {},
          "output_type": "execute_result"
        }
      ],
      "source": [
        "params_grid = [{'kernel': ['rbf'], 'gamma': ['auto', 'scale'], 'C': [1, 10, 100]},\n",
        "              {'kernel': ['linear'], 'C': [1, 10, 100]}]\n",
        "\n",
        "svm_model = GridSearchCV(SVC(), params_grid, cv=5)\n",
        "svm_model.fit(x_train, y_train)\n"
      ]
    },
    {
      "cell_type": "code",
      "execution_count": 11,
      "metadata": {
        "colab": {
          "base_uri": "https://localhost:8080/"
        },
        "id": "s2NcLzp2XMes",
        "outputId": "9c7b8bd2-0d11-4ef9-c877-0505af941d98"
      },
      "outputs": [
        {
          "data": {
            "text/plain": [
              "{'C': 100, 'gamma': 'auto', 'kernel': 'rbf'}"
            ]
          },
          "execution_count": 11,
          "metadata": {},
          "output_type": "execute_result"
        }
      ],
      "source": [
        "svm_model.best_params_"
      ]
    },
    {
      "cell_type": "code",
      "execution_count": 12,
      "metadata": {
        "colab": {
          "base_uri": "https://localhost:8080/"
        },
        "id": "B1dq3HyKTcrc",
        "outputId": "749e0aa1-7050-435f-fd2f-631a797c45ef"
      },
      "outputs": [
        {
          "name": "stdout",
          "output_type": "stream",
          "text": [
            "0.7399850709131625\n",
            "\\begin{tabular}{lrrrr}\n",
            "\\toprule\n",
            "{} &  precision &    recall &  f1-score &  support \\\\\n",
            "\\midrule\n",
            "False        &   0.753231 &  0.799558 &  0.775703 &   2260.0 \\\\\n",
            "True         &   0.720370 &  0.663445 &  0.690737 &   1759.0 \\\\\n",
            "macro avg    &   0.736800 &  0.731501 &  0.733220 &   4019.0 \\\\\n",
            "weighted avg &   0.738849 &  0.739985 &  0.738516 &   4019.0 \\\\\n",
            "\\bottomrule\n",
            "\\end{tabular}\n",
            "\n"
          ]
        }
      ],
      "source": [
        "model = svm_model.best_estimator_\n",
        "y_pred = model.predict(x_test)\n",
        "\n",
        "accReport = classification_report(y_test, y_pred, output_dict=True)\n",
        "print(accReport['accuracy']) \n",
        "df = pd.DataFrame(accReport).drop(columns = ['accuracy']).transpose() \n",
        "print(df.to_latex())\n",
        "\n",
        "pickle.dump(model, open(f\"svm_acc={accReport['accuracy']}.pkl\", 'wb'))\n",
        "pickle.dump(df.to_latex(), open('svm_classification_report_in_latex.txt', 'wb'))"
      ]
    },
    {
      "cell_type": "code",
      "execution_count": 13,
      "metadata": {
        "colab": {
          "base_uri": "https://localhost:8080/"
        },
        "id": "-_FNpI5yTcrf",
        "outputId": "5f6abcf8-3dbc-495f-e387-c648d39dfd6b"
      },
      "outputs": [
        {
          "name": "stdout",
          "output_type": "stream",
          "text": [
            "0.749440159243593\n",
            "\\begin{tabular}{lrrrr}\n",
            "\\toprule\n",
            "{} &  precision &    recall &  f1-score &  support \\\\\n",
            "\\midrule\n",
            "False        &   0.766482 &  0.797345 &  0.781609 &   2260.0 \\\\\n",
            "True         &   0.725420 &  0.687891 &  0.706157 &   1759.0 \\\\\n",
            "macro avg    &   0.745951 &  0.742618 &  0.743883 &   4019.0 \\\\\n",
            "weighted avg &   0.748510 &  0.749440 &  0.748586 &   4019.0 \\\\\n",
            "\\bottomrule\n",
            "\\end{tabular}\n",
            "\n"
          ]
        }
      ],
      "source": [
        "estimators = [\n",
        "    ('RandomForestClassifier', RandomForestClassifier()),\n",
        "    ('AdaBoostClassifier', AdaBoostClassifier()),\n",
        "    ('SVM', SVC(**svm_model.best_params_))\n",
        "]\n",
        "model = StackingClassifier(estimators=estimators, final_estimator=LogisticRegression(), n_jobs=10, cv = KFold(n_splits=5))\n",
        "\n",
        "model.fit(x_train, y_train)\n",
        "y_pred = model.predict(x_test)\n",
        "accReport = classification_report(y_test, y_pred, output_dict=True)\n",
        "print(accReport['accuracy']) \n",
        "df = pd.DataFrame(accReport).drop(columns = ['accuracy']).transpose()\n",
        "print(df.to_latex())"
      ]
    },
    {
      "cell_type": "code",
      "execution_count": 14,
      "metadata": {
        "id": "iEj-NI31Tcri"
      },
      "outputs": [],
      "source": [
        "pickle.dump(svm_model, open(f\"StackingClassifier_acc={accReport['accuracy']}.pkl\", 'wb'))\n",
        "pickle.dump(df.to_latex(), open('StackingClassifier_classification_report_in_latex.txt', 'wb')) "
      ]
    },
    {
      "cell_type": "code",
      "execution_count": null,
      "metadata": {
        "id": "N-TKdTUyZeZo"
      },
      "outputs": [],
      "source": []
    }
  ],
  "metadata": {
    "accelerator": "GPU",
    "colab": {
      "machine_shape": "hm",
      "provenance": []
    },
    "gpuClass": "standard",
    "kernelspec": {
      "display_name": "base",
      "language": "python",
      "name": "python3"
    },
    "language_info": {
      "codemirror_mode": {
        "name": "ipython",
        "version": 3
      },
      "file_extension": ".py",
      "mimetype": "text/x-python",
      "name": "python",
      "nbconvert_exporter": "python",
      "pygments_lexer": "ipython3",
      "version": "3.9.12 (main, Apr  4 2022, 05:22:27) [MSC v.1916 64 bit (AMD64)]"
    },
    "orig_nbformat": 4,
    "vscode": {
      "interpreter": {
        "hash": "f9b01f5dcf6eb49e98361bda3ea635f308f2cf3e384d6b27fe94cf5889827908"
      }
    }
  },
  "nbformat": 4,
  "nbformat_minor": 0
}
