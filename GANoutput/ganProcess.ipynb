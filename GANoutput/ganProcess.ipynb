{
 "cells": [
  {
   "cell_type": "code",
   "execution_count": 1,
   "metadata": {},
   "outputs": [],
   "source": [
    "import glob, cv2, os "
   ]
  },
  {
   "cell_type": "code",
   "execution_count": 13,
   "metadata": {},
   "outputs": [],
   "source": [
    "IMAGESIZE = 256\n",
    "\n",
    "\n",
    "def cutDown(imagepath):\n",
    "    image = cv2.imread(imagepath)\n",
    "\n",
    "    imgs = []\n",
    "    for i in range(0, image.shape[0], IMAGESIZE):\n",
    "        for j in range(0, image.shape[1], IMAGESIZE):\n",
    "            imgs.append(image[i:i+IMAGESIZE, j:j+IMAGESIZE])\n",
    "    for i, img in enumerate(imgs):\n",
    "        cv2.imwrite(os.path.join('ganImages', str(i)+imagepath.split('\\\\')[-1] ), img) \n",
    "\n"
   ]
  },
  {
   "cell_type": "code",
   "execution_count": 14,
   "metadata": {},
   "outputs": [
    {
     "data": {
      "text/plain": [
       "'data\\\\i28.png'"
      ]
     },
     "execution_count": 14,
     "metadata": {},
     "output_type": "execute_result"
    }
   ],
   "source": [
    "images = glob.glob(os.path.join('data', '*'))\n",
    "images[0]"
   ]
  },
  {
   "cell_type": "code",
   "execution_count": 15,
   "metadata": {},
   "outputs": [
    {
     "name": "stdout",
     "output_type": "stream",
     "text": [
      "(1536, 2048, 3)\n",
      "(1536, 2048, 3)\n",
      "(1536, 2048, 3)\n",
      "(1536, 2048, 3)\n",
      "(1536, 2048, 3)\n",
      "(1536, 2048, 3)\n",
      "(1536, 2048, 3)\n",
      "(1536, 2048, 3)\n",
      "(1536, 2048, 3)\n",
      "(1536, 2048, 3)\n",
      "(1536, 2048, 3)\n",
      "(1536, 2048, 3)\n",
      "(1536, 2048, 3)\n",
      "(1536, 2048, 3)\n",
      "(1536, 2048, 3)\n",
      "(1536, 2048, 3)\n",
      "(1536, 2048, 3)\n",
      "(1536, 2048, 3)\n",
      "(1536, 2048, 3)\n",
      "(1536, 2048, 3)\n",
      "(1536, 2048, 3)\n",
      "(1536, 2048, 3)\n",
      "(1536, 2048, 3)\n",
      "(1536, 2048, 3)\n",
      "(1536, 2048, 3)\n",
      "(1536, 2048, 3)\n",
      "(1536, 2048, 3)\n",
      "(1536, 2048, 3)\n",
      "(1536, 2048, 3)\n",
      "(1536, 2048, 3)\n",
      "(1536, 2048, 3)\n",
      "(1536, 2048, 3)\n",
      "(1536, 2048, 3)\n",
      "(1536, 2048, 3)\n"
     ]
    }
   ],
   "source": [
    "for imagepath in images:\n",
    "    cutDown(imagepath)\n"
   ]
  },
  {
   "cell_type": "code",
   "execution_count": null,
   "metadata": {},
   "outputs": [],
   "source": [
    "    "
   ]
  },
  {
   "cell_type": "code",
   "execution_count": null,
   "metadata": {},
   "outputs": [],
   "source": []
  }
 ],
 "metadata": {
  "kernelspec": {
   "display_name": "base",
   "language": "python",
   "name": "python3"
  },
  "language_info": {
   "codemirror_mode": {
    "name": "ipython",
    "version": 3
   },
   "file_extension": ".py",
   "mimetype": "text/x-python",
   "name": "python",
   "nbconvert_exporter": "python",
   "pygments_lexer": "ipython3",
   "version": "3.9.12"
  },
  "orig_nbformat": 4,
  "vscode": {
   "interpreter": {
    "hash": "f9b01f5dcf6eb49e98361bda3ea635f308f2cf3e384d6b27fe94cf5889827908"
   }
  }
 },
 "nbformat": 4,
 "nbformat_minor": 2
}
