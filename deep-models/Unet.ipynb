{
  "cells": [
    {
      "cell_type": "code",
      "execution_count": 1,
      "metadata": {
        "id": "lN6uT4tpg5o_"
      },
      "outputs": [],
      "source": [
        "from dataloader import segmentation_dataset \n",
        "from models import UNetCompiled \n",
        "from matplotlib import pyplot as plt "
      ]
    },
    {
      "cell_type": "code",
      "execution_count": 2,
      "metadata": {
        "colab": {
          "base_uri": "https://localhost:8080/"
        },
        "id": "_RHQtH7Rce0w",
        "outputId": "e9dff3cb-23d5-47e5-ba2b-18673ef50b0c"
      },
      "outputs": [
        {
          "name": "stderr",
          "output_type": "stream",
          "text": [
            "10015it [01:29, 112.05it/s]\n"
          ]
        }
      ],
      "source": [
        "(X_train, y_train), (X_valid, y_valid) = segmentation_dataset() "
      ]
    },
    {
      "cell_type": "code",
      "execution_count": 3,
      "metadata": {
        "colab": {
          "base_uri": "https://localhost:8080/"
        },
        "id": "c1kDa_1nlMLD",
        "outputId": "ef66384b-189a-45c1-edb9-c2f3769f3a83"
      },
      "outputs": [
        {
          "name": "stdout",
          "output_type": "stream",
          "text": [
            "Model: \"model\"\n",
            "__________________________________________________________________________________________________\n",
            " Layer (type)                   Output Shape         Param #     Connected to                     \n",
            "==================================================================================================\n",
            " input_1 (InputLayer)           [(None, 256, 256, 3  0           []                               \n",
            "                                )]                                                                \n",
            "                                                                                                  \n",
            " conv2d (Conv2D)                (None, 256, 256, 32  896         ['input_1[0][0]']                \n",
            "                                )                                                                 \n",
            "                                                                                                  \n",
            " conv2d_1 (Conv2D)              (None, 256, 256, 32  9248        ['conv2d[0][0]']                 \n",
            "                                )                                                                 \n",
            "                                                                                                  \n",
            " batch_normalization (BatchNorm  (None, 256, 256, 32  128        ['conv2d_1[0][0]']               \n",
            " alization)                     )                                                                 \n",
            "                                                                                                  \n",
            " max_pooling2d (MaxPooling2D)   (None, 128, 128, 32  0           ['batch_normalization[0][0]']    \n",
            "                                )                                                                 \n",
            "                                                                                                  \n",
            " conv2d_2 (Conv2D)              (None, 128, 128, 64  18496       ['max_pooling2d[0][0]']          \n",
            "                                )                                                                 \n",
            "                                                                                                  \n",
            " conv2d_3 (Conv2D)              (None, 128, 128, 64  36928       ['conv2d_2[0][0]']               \n",
            "                                )                                                                 \n",
            "                                                                                                  \n",
            " batch_normalization_1 (BatchNo  (None, 128, 128, 64  256        ['conv2d_3[0][0]']               \n",
            " rmalization)                   )                                                                 \n",
            "                                                                                                  \n",
            " max_pooling2d_1 (MaxPooling2D)  (None, 64, 64, 64)  0           ['batch_normalization_1[0][0]']  \n",
            "                                                                                                  \n",
            " conv2d_4 (Conv2D)              (None, 64, 64, 128)  73856       ['max_pooling2d_1[0][0]']        \n",
            "                                                                                                  \n",
            " conv2d_5 (Conv2D)              (None, 64, 64, 128)  147584      ['conv2d_4[0][0]']               \n",
            "                                                                                                  \n",
            " batch_normalization_2 (BatchNo  (None, 64, 64, 128)  512        ['conv2d_5[0][0]']               \n",
            " rmalization)                                                                                     \n",
            "                                                                                                  \n",
            " max_pooling2d_2 (MaxPooling2D)  (None, 32, 32, 128)  0          ['batch_normalization_2[0][0]']  \n",
            "                                                                                                  \n",
            " conv2d_6 (Conv2D)              (None, 32, 32, 256)  295168      ['max_pooling2d_2[0][0]']        \n",
            "                                                                                                  \n",
            " conv2d_7 (Conv2D)              (None, 32, 32, 256)  590080      ['conv2d_6[0][0]']               \n",
            "                                                                                                  \n",
            " batch_normalization_3 (BatchNo  (None, 32, 32, 256)  1024       ['conv2d_7[0][0]']               \n",
            " rmalization)                                                                                     \n",
            "                                                                                                  \n",
            " dropout (Dropout)              (None, 32, 32, 256)  0           ['batch_normalization_3[0][0]']  \n",
            "                                                                                                  \n",
            " max_pooling2d_3 (MaxPooling2D)  (None, 16, 16, 256)  0          ['dropout[0][0]']                \n",
            "                                                                                                  \n",
            " conv2d_8 (Conv2D)              (None, 16, 16, 512)  1180160     ['max_pooling2d_3[0][0]']        \n",
            "                                                                                                  \n",
            " conv2d_9 (Conv2D)              (None, 16, 16, 512)  2359808     ['conv2d_8[0][0]']               \n",
            "                                                                                                  \n",
            " batch_normalization_4 (BatchNo  (None, 16, 16, 512)  2048       ['conv2d_9[0][0]']               \n",
            " rmalization)                                                                                     \n",
            "                                                                                                  \n",
            " dropout_1 (Dropout)            (None, 16, 16, 512)  0           ['batch_normalization_4[0][0]']  \n",
            "                                                                                                  \n",
            " conv2d_transpose (Conv2DTransp  (None, 32, 32, 256)  1179904    ['dropout_1[0][0]']              \n",
            " ose)                                                                                             \n",
            "                                                                                                  \n",
            " concatenate (Concatenate)      (None, 32, 32, 512)  0           ['conv2d_transpose[0][0]',       \n",
            "                                                                  'dropout[0][0]']                \n",
            "                                                                                                  \n",
            " conv2d_10 (Conv2D)             (None, 32, 32, 256)  1179904     ['concatenate[0][0]']            \n",
            "                                                                                                  \n",
            " conv2d_11 (Conv2D)             (None, 32, 32, 256)  590080      ['conv2d_10[0][0]']              \n",
            "                                                                                                  \n",
            " conv2d_transpose_1 (Conv2DTran  (None, 64, 64, 128)  295040     ['conv2d_11[0][0]']              \n",
            " spose)                                                                                           \n",
            "                                                                                                  \n",
            " concatenate_1 (Concatenate)    (None, 64, 64, 256)  0           ['conv2d_transpose_1[0][0]',     \n",
            "                                                                  'batch_normalization_2[0][0]']  \n",
            "                                                                                                  \n",
            " conv2d_12 (Conv2D)             (None, 64, 64, 128)  295040      ['concatenate_1[0][0]']          \n",
            "                                                                                                  \n",
            " conv2d_13 (Conv2D)             (None, 64, 64, 128)  147584      ['conv2d_12[0][0]']              \n",
            "                                                                                                  \n",
            " conv2d_transpose_2 (Conv2DTran  (None, 128, 128, 64  73792      ['conv2d_13[0][0]']              \n",
            " spose)                         )                                                                 \n",
            "                                                                                                  \n",
            " concatenate_2 (Concatenate)    (None, 128, 128, 12  0           ['conv2d_transpose_2[0][0]',     \n",
            "                                8)                                'batch_normalization_1[0][0]']  \n",
            "                                                                                                  \n",
            " conv2d_14 (Conv2D)             (None, 128, 128, 64  73792       ['concatenate_2[0][0]']          \n",
            "                                )                                                                 \n",
            "                                                                                                  \n",
            " conv2d_15 (Conv2D)             (None, 128, 128, 64  36928       ['conv2d_14[0][0]']              \n",
            "                                )                                                                 \n",
            "                                                                                                  \n",
            " conv2d_transpose_3 (Conv2DTran  (None, 256, 256, 32  18464      ['conv2d_15[0][0]']              \n",
            " spose)                         )                                                                 \n",
            "                                                                                                  \n",
            " concatenate_3 (Concatenate)    (None, 256, 256, 64  0           ['conv2d_transpose_3[0][0]',     \n",
            "                                )                                 'batch_normalization[0][0]']    \n",
            "                                                                                                  \n",
            " conv2d_16 (Conv2D)             (None, 256, 256, 32  18464       ['concatenate_3[0][0]']          \n",
            "                                )                                                                 \n",
            "                                                                                                  \n",
            " conv2d_17 (Conv2D)             (None, 256, 256, 32  9248        ['conv2d_16[0][0]']              \n",
            "                                )                                                                 \n",
            "                                                                                                  \n",
            " conv2d_18 (Conv2D)             (None, 256, 256, 32  9248        ['conv2d_17[0][0]']              \n",
            "                                )                                                                 \n",
            "                                                                                                  \n",
            " conv2d_19 (Conv2D)             (None, 256, 256, 1)  33          ['conv2d_18[0][0]']              \n",
            "                                                                                                  \n",
            "==================================================================================================\n",
            "Total params: 8,643,713\n",
            "Trainable params: 8,641,729\n",
            "Non-trainable params: 1,984\n",
            "__________________________________________________________________________________________________\n"
          ]
        }
      ],
      "source": [
        "model = UNetCompiled() \n",
        "model.summary() "
      ]
    },
    {
      "cell_type": "code",
      "execution_count": 9,
      "metadata": {
        "colab": {
          "base_uri": "https://localhost:8080/",
          "height": 269
        },
        "id": "UHYV13roce0z",
        "outputId": "41e0936c-c431-4332-9826-5989b0360b78"
      },
      "outputs": [
        {
          "data": {
            "image/png": "[encoded data removed]",
            "text/plain": [
              "<Figure size 432x288 with 1 Axes>"
            ]
          },
          "metadata": {
            "needs_background": "light"
          },
          "output_type": "display_data"
        }
      ],
      "source": [
        "plt.imshow(X_train[5]) \n",
        "plt.show() "
      ]
    },
    {
      "cell_type": "code",
      "execution_count": 10,
      "metadata": {
        "colab": {
          "base_uri": "https://localhost:8080/",
          "height": 269
        },
        "id": "sGkJZjOJce01",
        "outputId": "4e3d401c-55cd-4ef8-8a44-caf6420ebe38"
      },
      "outputs": [
        {
          "data": {
            "image/png": "[encoded data removed]",
            "text/plain": [
              "<Figure size 432x288 with 1 Axes>"
            ]
          },
          "metadata": {
            "needs_background": "light"
          },
          "output_type": "display_data"
        }
      ],
      "source": [
        "plt.imshow(y_train[5].reshape((256,256)), cmap='gray') \n",
        "plt.show() "
      ]
    },
    {
      "cell_type": "code",
      "execution_count": 4,
      "metadata": {
        "colab": {
          "base_uri": "https://localhost:8080/"
        },
        "id": "mK1KqZUZce03",
        "outputId": "43c58948-4c2c-45c2-ddd5-cd3e5fc648a8"
      },
      "outputs": [
        {
          "name": "stdout",
          "output_type": "stream",
          "text": [
            "Epoch 1/30\n",
            "251/251 [==============================] - ETA: 0s - loss: 0.3603 - Accuracy: 0.8776"
          ]
        },
        {
          "name": "stderr",
          "output_type": "stream",
          "text": [
            "WARNING:tensorflow:Can save best model only with val_accuracy available, skipping.\n"
          ]
        },
        {
          "name": "stdout",
          "output_type": "stream",
          "text": [
            "\b\b\b\b\b\b\b\b\b\b\b\b\b\b\b\b\b\b\b\b\b\b\b\b\b\b\b\b\b\b\b\b\b\b\b\b\b\b\b\b\b\b\b\b\b\b\b\b\b\b\b\b\b\b\b\b\b\b\b\b\b\b\b\b\b\b\b\b\b\b\b\b\b\b\b\b\b\b\b\b\b\b\b\b\r251/251 [==============================] - 39s 131ms/step - loss: 0.3603 - Accuracy: 0.8776 - val_loss: 0.2825 - val_Accuracy: 0.8969 - lr: 0.0010\n",
            "Epoch 2/30\n",
            "250/251 [============================>.] - ETA: 0s - loss: 0.2251 - Accuracy: 0.9202"
          ]
        },
        {
          "name": "stderr",
          "output_type": "stream",
          "text": [
            "WARNING:tensorflow:Can save best model only with val_accuracy available, skipping.\n"
          ]
        },
        {
          "name": "stdout",
          "output_type": "stream",
          "text": [
            "\b\b\b\b\b\b\b\b\b\b\b\b\b\b\b\b\b\b\b\b\b\b\b\b\b\b\b\b\b\b\b\b\b\b\b\b\b\b\b\b\b\b\b\b\b\b\b\b\b\b\b\b\b\b\b\b\b\b\b\b\b\b\b\b\b\b\b\b\b\b\b\b\b\b\b\b\b\b\b\b\b\b\b\b\r251/251 [==============================] - 29s 114ms/step - loss: 0.2251 - Accuracy: 0.9203 - val_loss: 0.2364 - val_Accuracy: 0.9147 - lr: 0.0010\n",
            "Epoch 3/30\n",
            "250/251 [============================>.] - ETA: 0s - loss: 0.2221 - Accuracy: 0.9171"
          ]
        },
        {
          "name": "stderr",
          "output_type": "stream",
          "text": [
            "WARNING:tensorflow:Can save best model only with val_accuracy available, skipping.\n"
          ]
        },
        {
          "name": "stdout",
          "output_type": "stream",
          "text": [
            "\b\b\b\b\b\b\b\b\b\b\b\b\b\b\b\b\b\b\b\b\b\b\b\b\b\b\b\b\b\b\b\b\b\b\b\b\b\b\b\b\b\b\b\b\b\b\b\b\b\b\b\b\b\b\b\b\b\b\b\b\b\b\b\b\b\b\b\b\b\b\b\b\b\b\b\b\b\b\b\b\b\b\b\b\r251/251 [==============================] - 28s 114ms/step - loss: 0.2220 - Accuracy: 0.9171 - val_loss: 0.1996 - val_Accuracy: 0.9295 - lr: 0.0010\n",
            "Epoch 4/30\n",
            "250/251 [============================>.] - ETA: 0s - loss: 0.1800 - Accuracy: 0.9349"
          ]
        },
        {
          "name": "stderr",
          "output_type": "stream",
          "text": [
            "WARNING:tensorflow:Can save best model only with val_accuracy available, skipping.\n"
          ]
        },
        {
          "name": "stdout",
          "output_type": "stream",
          "text": [
            "\b\b\b\b\b\b\b\b\b\b\b\b\b\b\b\b\b\b\b\b\b\b\b\b\b\b\b\b\b\b\b\b\b\b\b\b\b\b\b\b\b\b\b\b\b\b\b\b\b\b\b\b\b\b\b\b\b\b\b\b\b\b\b\b\b\b\b\b\b\b\b\b\b\b\b\b\b\b\b\b\b\b\b\b\r251/251 [==============================] - 29s 114ms/step - loss: 0.1799 - Accuracy: 0.9350 - val_loss: 0.1996 - val_Accuracy: 0.9271 - lr: 0.0010\n",
            "Epoch 5/30\n",
            "250/251 [============================>.] - ETA: 0s - loss: 0.2010 - Accuracy: 0.9289"
          ]
        },
        {
          "name": "stderr",
          "output_type": "stream",
          "text": [
            "WARNING:tensorflow:Can save best model only with val_accuracy available, skipping.\n"
          ]
        },
        {
          "name": "stdout",
          "output_type": "stream",
          "text": [
            "\b\b\b\b\b\b\b\b\b\b\b\b\b\b\b\b\b\b\b\b\b\b\b\b\b\b\b\b\b\b\b\b\b\b\b\b\b\b\b\b\b\b\b\b\b\b\b\b\b\b\b\b\b\b\b\b\b\b\b\b\b\b\b\b\b\b\b\b\b\b\b\b\b\b\b\b\b\b\b\b\b\b\b\b\r251/251 [==============================] - 28s 114ms/step - loss: 0.2011 - Accuracy: 0.9288 - val_loss: 0.2001 - val_Accuracy: 0.9294 - lr: 0.0010\n",
            "Epoch 6/30\n",
            "250/251 [============================>.] - ETA: 0s - loss: 0.1695 - Accuracy: 0.9390"
          ]
        },
        {
          "name": "stderr",
          "output_type": "stream",
          "text": [
            "WARNING:tensorflow:Can save best model only with val_accuracy available, skipping.\n"
          ]
        },
        {
          "name": "stdout",
          "output_type": "stream",
          "text": [
            "\b\b\b\b\b\b\b\b\b\b\b\b\b\b\b\b\b\b\b\b\b\b\b\b\b\b\b\b\b\b\b\b\b\b\b\b\b\b\b\b\b\b\b\b\b\b\b\b\b\b\b\b\b\b\b\b\b\b\b\b\b\b\b\b\b\b\b\b\b\b\b\b\b\b\b\b\b\b\b\b\b\b\b\b\r251/251 [==============================] - 29s 114ms/step - loss: 0.1694 - Accuracy: 0.9390 - val_loss: 0.1503 - val_Accuracy: 0.9421 - lr: 0.0010\n",
            "Epoch 7/30\n",
            "250/251 [============================>.] - ETA: 0s - loss: 0.1461 - Accuracy: 0.9466"
          ]
        },
        {
          "name": "stderr",
          "output_type": "stream",
          "text": [
            "WARNING:tensorflow:Can save best model only with val_accuracy available, skipping.\n"
          ]
        },
        {
          "name": "stdout",
          "output_type": "stream",
          "text": [
            "\b\b\b\b\b\b\b\b\b\b\b\b\b\b\b\b\b\b\b\b\b\b\b\b\b\b\b\b\b\b\b\b\b\b\b\b\b\b\b\b\b\b\b\b\b\b\b\b\b\b\b\b\b\b\b\b\b\b\b\b\b\b\b\b\b\b\b\b\b\b\b\b\b\b\b\b\b\b\b\b\b\b\b\b\r251/251 [==============================] - 29s 114ms/step - loss: 0.1461 - Accuracy: 0.9466 - val_loss: 0.1443 - val_Accuracy: 0.9470 - lr: 0.0010\n",
            "Epoch 8/30\n",
            "250/251 [============================>.] - ETA: 0s - loss: 0.1457 - Accuracy: 0.9471"
          ]
        },
        {
          "name": "stderr",
          "output_type": "stream",
          "text": [
            "WARNING:tensorflow:Can save best model only with val_accuracy available, skipping.\n"
          ]
        },
        {
          "name": "stdout",
          "output_type": "stream",
          "text": [
            "\b\b\b\b\b\b\b\b\b\b\b\b\b\b\b\b\b\b\b\b\b\b\b\b\b\b\b\b\b\b\b\b\b\b\b\b\b\b\b\b\b\b\b\b\b\b\b\b\b\b\b\b\b\b\b\b\b\b\b\b\b\b\b\b\b\b\b\b\b\b\b\b\b\b\b\b\b\b\b\b\b\b\b\b\r251/251 [==============================] - 29s 114ms/step - loss: 0.1458 - Accuracy: 0.9471 - val_loss: 0.1750 - val_Accuracy: 0.9382 - lr: 0.0010\n",
            "Epoch 9/30\n",
            "250/251 [============================>.] - ETA: 0s - loss: 0.1374 - Accuracy: 0.9488"
          ]
        },
        {
          "name": "stderr",
          "output_type": "stream",
          "text": [
            "WARNING:tensorflow:Can save best model only with val_accuracy available, skipping.\n"
          ]
        },
        {
          "name": "stdout",
          "output_type": "stream",
          "text": [
            "\b\b\b\b\b\b\b\b\b\b\b\b\b\b\b\b\b\b\b\b\b\b\b\b\b\b\b\b\b\b\b\b\b\b\b\b\b\b\b\b\b\b\b\b\b\b\b\b\b\b\b\b\b\b\b\b\b\b\b\b\b\b\b\b\b\b\b\b\b\b\b\b\b\b\b\b\b\b\b\b\b\b\b\b\r251/251 [==============================] - 29s 114ms/step - loss: 0.1374 - Accuracy: 0.9488 - val_loss: 0.1286 - val_Accuracy: 0.9535 - lr: 0.0010\n",
            "Epoch 10/30\n",
            "250/251 [============================>.] - ETA: 0s - loss: 0.1331 - Accuracy: 0.9517"
          ]
        },
        {
          "name": "stderr",
          "output_type": "stream",
          "text": [
            "WARNING:tensorflow:Can save best model only with val_accuracy available, skipping.\n"
          ]
        },
        {
          "name": "stdout",
          "output_type": "stream",
          "text": [
            "\b\b\b\b\b\b\b\b\b\b\b\b\b\b\b\b\b\b\b\b\b\b\b\b\b\b\b\b\b\b\b\b\b\b\b\b\b\b\b\b\b\b\b\b\b\b\b\b\b\b\b\b\b\b\b\b\b\b\b\b\b\b\b\b\b\b\b\b\b\b\b\b\b\b\b\b\b\b\b\b\b\b\b\b\r251/251 [==============================] - 29s 114ms/step - loss: 0.1332 - Accuracy: 0.9517 - val_loss: 0.1349 - val_Accuracy: 0.9534 - lr: 0.0010\n",
            "Epoch 11/30\n",
            "250/251 [============================>.] - ETA: 0s - loss: 0.1245 - Accuracy: 0.9538"
          ]
        },
        {
          "name": "stderr",
          "output_type": "stream",
          "text": [
            "WARNING:tensorflow:Can save best model only with val_accuracy available, skipping.\n"
          ]
        },
        {
          "name": "stdout",
          "output_type": "stream",
          "text": [
            "\b\b\b\b\b\b\b\b\b\b\b\b\b\b\b\b\b\b\b\b\b\b\b\b\b\b\b\b\b\b\b\b\b\b\b\b\b\b\b\b\b\b\b\b\b\b\b\b\b\b\b\b\b\b\b\b\b\b\b\b\b\b\b\b\b\b\b\b\b\b\b\b\b\b\b\b\b\b\b\b\b\b\b\b\r251/251 [==============================] - 29s 114ms/step - loss: 0.1244 - Accuracy: 0.9539 - val_loss: 0.1223 - val_Accuracy: 0.9551 - lr: 0.0010\n",
            "Epoch 12/30\n",
            "250/251 [============================>.] - ETA: 0s - loss: 0.1216 - Accuracy: 0.9545"
          ]
        },
        {
          "name": "stderr",
          "output_type": "stream",
          "text": [
            "WARNING:tensorflow:Can save best model only with val_accuracy available, skipping.\n"
          ]
        },
        {
          "name": "stdout",
          "output_type": "stream",
          "text": [
            "\b\b\b\b\b\b\b\b\b\b\b\b\b\b\b\b\b\b\b\b\b\b\b\b\b\b\b\b\b\b\b\b\b\b\b\b\b\b\b\b\b\b\b\b\b\b\b\b\b\b\b\b\b\b\b\b\b\b\b\b\b\b\b\b\b\b\b\b\b\b\b\b\b\b\b\b\b\b\b\b\b\b\b\b\r251/251 [==============================] - 29s 114ms/step - loss: 0.1215 - Accuracy: 0.9546 - val_loss: 0.1383 - val_Accuracy: 0.9460 - lr: 0.0010\n",
            "Epoch 13/30\n",
            "250/251 [============================>.] - ETA: 0s - loss: 0.1414 - Accuracy: 0.9483"
          ]
        },
        {
          "name": "stderr",
          "output_type": "stream",
          "text": [
            "WARNING:tensorflow:Can save best model only with val_accuracy available, skipping.\n"
          ]
        },
        {
          "name": "stdout",
          "output_type": "stream",
          "text": [
            "\b\b\b\b\b\b\b\b\b\b\b\b\b\b\b\b\b\b\b\b\b\b\b\b\b\b\b\b\b\b\b\b\b\b\b\b\b\b\b\b\b\b\b\b\b\b\b\b\b\b\b\b\b\b\b\b\b\b\b\b\b\b\b\b\b\b\b\b\b\b\b\b\b\b\b\b\b\b\b\b\b\b\b\b\r251/251 [==============================] - 29s 114ms/step - loss: 0.1414 - Accuracy: 0.9483 - val_loss: 0.1301 - val_Accuracy: 0.9535 - lr: 0.0010\n",
            "Epoch 14/30\n",
            "250/251 [============================>.] - ETA: 0s - loss: 0.1260 - Accuracy: 0.9534"
          ]
        },
        {
          "name": "stderr",
          "output_type": "stream",
          "text": [
            "WARNING:tensorflow:Can save best model only with val_accuracy available, skipping.\n"
          ]
        },
        {
          "name": "stdout",
          "output_type": "stream",
          "text": [
            "\b\b\b\b\b\b\b\b\b\b\b\b\b\b\b\b\b\b\b\b\b\b\b\b\b\b\b\b\b\b\b\b\b\b\b\b\b\b\b\b\b\b\b\b\b\b\b\b\b\b\b\b\b\b\b\b\b\b\b\b\b\b\b\b\b\b\b\b\b\b\b\b\b\b\b\b\b\b\b\b\b\b\b\b\r251/251 [==============================] - 29s 114ms/step - loss: 0.1260 - Accuracy: 0.9534 - val_loss: 0.1233 - val_Accuracy: 0.9537 - lr: 0.0010\n",
            "Epoch 15/30\n",
            "250/251 [============================>.] - ETA: 0s - loss: 0.1208 - Accuracy: 0.9554"
          ]
        },
        {
          "name": "stderr",
          "output_type": "stream",
          "text": [
            "WARNING:tensorflow:Can save best model only with val_accuracy available, skipping.\n"
          ]
        },
        {
          "name": "stdout",
          "output_type": "stream",
          "text": [
            "\b\b\b\b\b\b\b\b\b\b\b\b\b\b\b\b\b\b\b\b\b\b\b\b\b\b\b\b\b\b\b\b\b\b\b\b\b\b\b\b\b\b\b\b\b\b\b\b\b\b\b\b\b\b\b\b\b\b\b\b\b\b\b\b\b\b\b\b\b\b\b\b\b\b\b\b\b\b\b\b\b\b\b\b\r251/251 [==============================] - 29s 114ms/step - loss: 0.1209 - Accuracy: 0.9554 - val_loss: 0.1353 - val_Accuracy: 0.9482 - lr: 0.0010\n",
            "Epoch 16/30\n",
            "250/251 [============================>.] - ETA: 0s - loss: 0.1216 - Accuracy: 0.9545"
          ]
        },
        {
          "name": "stderr",
          "output_type": "stream",
          "text": [
            "WARNING:tensorflow:Can save best model only with val_accuracy available, skipping.\n"
          ]
        },
        {
          "name": "stdout",
          "output_type": "stream",
          "text": [
            "\b\b\b\b\b\b\b\b\b\b\b\b\b\b\b\b\b\b\b\b\b\b\b\b\b\b\b\b\b\b\b\b\b\b\b\b\b\b\b\b\b\b\b\b\b\b\b\b\b\b\b\b\b\b\b\b\b\b\b\b\b\b\b\b\b\b\b\b\b\b\b\b\b\b\b\b\b\b\b\b\b\b\b\b\r251/251 [==============================] - 29s 114ms/step - loss: 0.1216 - Accuracy: 0.9545 - val_loss: 0.1289 - val_Accuracy: 0.9545 - lr: 0.0010\n",
            "Epoch 17/30\n",
            "250/251 [============================>.] - ETA: 0s - loss: 0.1147 - Accuracy: 0.9570"
          ]
        },
        {
          "name": "stderr",
          "output_type": "stream",
          "text": [
            "WARNING:tensorflow:Can save best model only with val_accuracy available, skipping.\n"
          ]
        },
        {
          "name": "stdout",
          "output_type": "stream",
          "text": [
            "\b\b\b\b\b\b\b\b\b\b\b\b\b\b\b\b\b\b\b\b\b\b\b\b\b\b\b\b\b\b\b\b\b\b\b\b\b\b\b\b\b\b\b\b\b\b\b\b\b\b\b\b\b\b\b\b\b\b\b\b\b\b\b\b\b\b\b\b\b\b\b\b\b\b\b\b\b\b\b\b\b\b\b\b\r251/251 [==============================] - 29s 114ms/step - loss: 0.1147 - Accuracy: 0.9570 - val_loss: 0.1322 - val_Accuracy: 0.9530 - lr: 0.0010\n",
            "Epoch 18/30\n",
            "250/251 [============================>.] - ETA: 0s - loss: 0.1007 - Accuracy: 0.9619"
          ]
        },
        {
          "name": "stderr",
          "output_type": "stream",
          "text": [
            "WARNING:tensorflow:Can save best model only with val_accuracy available, skipping.\n"
          ]
        },
        {
          "name": "stdout",
          "output_type": "stream",
          "text": [
            "\b\b\b\b\b\b\b\b\b\b\b\b\b\b\b\b\b\b\b\b\b\b\b\b\b\b\b\b\b\b\b\b\b\b\b\b\b\b\b\b\b\b\b\b\b\b\b\b\b\b\b\b\b\b\b\b\b\b\b\b\b\b\b\b\b\b\b\b\b\b\b\b\b\b\b\b\b\b\b\b\b\b\b\b\r251/251 [==============================] - 29s 114ms/step - loss: 0.1007 - Accuracy: 0.9619 - val_loss: 0.1173 - val_Accuracy: 0.9580 - lr: 5.0000e-04\n",
            "Epoch 19/30\n",
            "250/251 [============================>.] - ETA: 0s - loss: 0.0952 - Accuracy: 0.9634"
          ]
        },
        {
          "name": "stderr",
          "output_type": "stream",
          "text": [
            "WARNING:tensorflow:Can save best model only with val_accuracy available, skipping.\n"
          ]
        },
        {
          "name": "stdout",
          "output_type": "stream",
          "text": [
            "\b\b\b\b\b\b\b\b\b\b\b\b\b\b\b\b\b\b\b\b\b\b\b\b\b\b\b\b\b\b\b\b\b\b\b\b\b\b\b\b\b\b\b\b\b\b\b\b\b\b\b\b\b\b\b\b\b\b\b\b\b\b\b\b\b\b\b\b\b\b\b\b\b\b\b\b\b\b\b\b\b\b\b\b\r251/251 [==============================] - 29s 114ms/step - loss: 0.0952 - Accuracy: 0.9635 - val_loss: 0.1144 - val_Accuracy: 0.9573 - lr: 5.0000e-04\n",
            "Epoch 20/30\n",
            "250/251 [============================>.] - ETA: 0s - loss: 0.0914 - Accuracy: 0.9646"
          ]
        },
        {
          "name": "stderr",
          "output_type": "stream",
          "text": [
            "WARNING:tensorflow:Can save best model only with val_accuracy available, skipping.\n"
          ]
        },
        {
          "name": "stdout",
          "output_type": "stream",
          "text": [
            "\b\b\b\b\b\b\b\b\b\b\b\b\b\b\b\b\b\b\b\b\b\b\b\b\b\b\b\b\b\b\b\b\b\b\b\b\b\b\b\b\b\b\b\b\b\b\b\b\b\b\b\b\b\b\b\b\b\b\b\b\b\b\b\b\b\b\b\b\b\b\b\b\b\b\b\b\b\b\b\b\b\b\b\b\r251/251 [==============================] - 29s 114ms/step - loss: 0.0914 - Accuracy: 0.9646 - val_loss: 0.1171 - val_Accuracy: 0.9564 - lr: 5.0000e-04\n",
            "Epoch 21/30\n",
            "250/251 [============================>.] - ETA: 0s - loss: 0.0900 - Accuracy: 0.9656"
          ]
        },
        {
          "name": "stderr",
          "output_type": "stream",
          "text": [
            "WARNING:tensorflow:Can save best model only with val_accuracy available, skipping.\n"
          ]
        },
        {
          "name": "stdout",
          "output_type": "stream",
          "text": [
            "\b\b\b\b\b\b\b\b\b\b\b\b\b\b\b\b\b\b\b\b\b\b\b\b\b\b\b\b\b\b\b\b\b\b\b\b\b\b\b\b\b\b\b\b\b\b\b\b\b\b\b\b\b\b\b\b\b\b\b\b\b\b\b\b\b\b\b\b\b\b\b\b\b\b\b\b\b\b\b\b\b\b\b\b\r251/251 [==============================] - 29s 114ms/step - loss: 0.0901 - Accuracy: 0.9655 - val_loss: 0.1176 - val_Accuracy: 0.9579 - lr: 5.0000e-04\n",
            "Epoch 22/30\n",
            "250/251 [============================>.] - ETA: 0s - loss: 0.0862 - Accuracy: 0.9666"
          ]
        },
        {
          "name": "stderr",
          "output_type": "stream",
          "text": [
            "WARNING:tensorflow:Can save best model only with val_accuracy available, skipping.\n"
          ]
        },
        {
          "name": "stdout",
          "output_type": "stream",
          "text": [
            "\b\b\b\b\b\b\b\b\b\b\b\b\b\b\b\b\b\b\b\b\b\b\b\b\b\b\b\b\b\b\b\b\b\b\b\b\b\b\b\b\b\b\b\b\b\b\b\b\b\b\b\b\b\b\b\b\b\b\b\b\b\b\b\b\b\b\b\b\b\b\b\b\b\b\b\b\b\b\b\b\b\b\b\b\r251/251 [==============================] - 29s 114ms/step - loss: 0.0862 - Accuracy: 0.9667 - val_loss: 0.1275 - val_Accuracy: 0.9553 - lr: 5.0000e-04\n",
            "Epoch 23/30\n",
            "250/251 [============================>.] - ETA: 0s - loss: 0.0822 - Accuracy: 0.9681"
          ]
        },
        {
          "name": "stderr",
          "output_type": "stream",
          "text": [
            "WARNING:tensorflow:Can save best model only with val_accuracy available, skipping.\n"
          ]
        },
        {
          "name": "stdout",
          "output_type": "stream",
          "text": [
            "\b\b\b\b\b\b\b\b\b\b\b\b\b\b\b\b\b\b\b\b\b\b\b\b\b\b\b\b\b\b\b\b\b\b\b\b\b\b\b\b\b\b\b\b\b\b\b\b\b\b\b\b\b\b\b\b\b\b\b\b\b\b\b\b\b\b\b\b\b\b\b\b\b\b\b\b\b\b\b\b\b\b\b\b\r251/251 [==============================] - 28s 114ms/step - loss: 0.0822 - Accuracy: 0.9681 - val_loss: 0.1199 - val_Accuracy: 0.9558 - lr: 5.0000e-04\n",
            "Epoch 24/30\n",
            "250/251 [============================>.] - ETA: 0s - loss: 0.0790 - Accuracy: 0.9696"
          ]
        },
        {
          "name": "stderr",
          "output_type": "stream",
          "text": [
            "WARNING:tensorflow:Can save best model only with val_accuracy available, skipping.\n"
          ]
        },
        {
          "name": "stdout",
          "output_type": "stream",
          "text": [
            "\b\b\b\b\b\b\b\b\b\b\b\b\b\b\b\b\b\b\b\b\b\b\b\b\b\b\b\b\b\b\b\b\b\b\b\b\b\b\b\b\b\b\b\b\b\b\b\b\b\b\b\b\b\b\b\b\b\b\b\b\b\b\b\b\b\b\b\b\b\b\b\b\b\b\b\b\b\b\b\b\b\b\b\b\r251/251 [==============================] - 29s 114ms/step - loss: 0.0790 - Accuracy: 0.9696 - val_loss: 0.1653 - val_Accuracy: 0.9455 - lr: 5.0000e-04\n",
            "Epoch 25/30\n",
            "250/251 [============================>.] - ETA: 0s - loss: 0.0780 - Accuracy: 0.9696"
          ]
        },
        {
          "name": "stderr",
          "output_type": "stream",
          "text": [
            "WARNING:tensorflow:Can save best model only with val_accuracy available, skipping.\n"
          ]
        },
        {
          "name": "stdout",
          "output_type": "stream",
          "text": [
            "\b\b\b\b\b\b\b\b\b\b\b\b\b\b\b\b\b\b\b\b\b\b\b\b\b\b\b\b\b\b\b\b\b\b\b\b\b\b\b\b\b\b\b\b\b\b\b\b\b\b\b\b\b\b\b\b\b\b\b\b\b\b\b\b\b\b\b\b\b\b\b\b\b\b\b\b\b\b\b\b\b\b\b\b\r251/251 [==============================] - 29s 114ms/step - loss: 0.0780 - Accuracy: 0.9696 - val_loss: 0.1412 - val_Accuracy: 0.9579 - lr: 5.0000e-04\n",
            "Epoch 26/30\n",
            "250/251 [============================>.] - ETA: 0s - loss: 0.0730 - Accuracy: 0.9717"
          ]
        },
        {
          "name": "stderr",
          "output_type": "stream",
          "text": [
            "WARNING:tensorflow:Can save best model only with val_accuracy available, skipping.\n"
          ]
        },
        {
          "name": "stdout",
          "output_type": "stream",
          "text": [
            "\b\b\b\b\b\b\b\b\b\b\b\b\b\b\b\b\b\b\b\b\b\b\b\b\b\b\b\b\b\b\b\b\b\b\b\b\b\b\b\b\b\b\b\b\b\b\b\b\b\b\b\b\b\b\b\b\b\b\b\b\b\b\b\b\b\b\b\b\b\b\b\b\b\b\b\b\b\b\b\b\b\b\b\b\r251/251 [==============================] - 28s 114ms/step - loss: 0.0729 - Accuracy: 0.9717 - val_loss: 0.1339 - val_Accuracy: 0.9565 - lr: 2.5000e-04\n",
            "Epoch 27/30\n",
            "250/251 [============================>.] - ETA: 0s - loss: 0.0645 - Accuracy: 0.9746"
          ]
        },
        {
          "name": "stderr",
          "output_type": "stream",
          "text": [
            "WARNING:tensorflow:Can save best model only with val_accuracy available, skipping.\n"
          ]
        },
        {
          "name": "stdout",
          "output_type": "stream",
          "text": [
            "\b\b\b\b\b\b\b\b\b\b\b\b\b\b\b\b\b\b\b\b\b\b\b\b\b\b\b\b\b\b\b\b\b\b\b\b\b\b\b\b\b\b\b\b\b\b\b\b\b\b\b\b\b\b\b\b\b\b\b\b\b\b\b\b\b\b\b\b\b\b\b\b\b\b\b\b\b\b\b\b\b\b\b\b\r251/251 [==============================] - 29s 114ms/step - loss: 0.0645 - Accuracy: 0.9746 - val_loss: 0.1330 - val_Accuracy: 0.9557 - lr: 2.5000e-04\n",
            "Epoch 28/30\n",
            "250/251 [============================>.] - ETA: 0s - loss: 0.0608 - Accuracy: 0.9758"
          ]
        },
        {
          "name": "stderr",
          "output_type": "stream",
          "text": [
            "WARNING:tensorflow:Can save best model only with val_accuracy available, skipping.\n"
          ]
        },
        {
          "name": "stdout",
          "output_type": "stream",
          "text": [
            "\b\b\b\b\b\b\b\b\b\b\b\b\b\b\b\b\b\b\b\b\b\b\b\b\b\b\b\b\b\b\b\b\b\b\b\b\b\b\b\b\b\b\b\b\b\b\b\b\b\b\b\b\b\b\b\b\b\b\b\b\b\b\b\b\b\b\b\b\b\b\b\b\b\b\b\b\b\b\b\b\b\b\b\b\r251/251 [==============================] - 28s 113ms/step - loss: 0.0608 - Accuracy: 0.9758 - val_loss: 0.1441 - val_Accuracy: 0.9560 - lr: 2.5000e-04\n",
            "Epoch 29/30\n",
            "250/251 [============================>.] - ETA: 0s - loss: 0.0609 - Accuracy: 0.9759"
          ]
        },
        {
          "name": "stderr",
          "output_type": "stream",
          "text": [
            "WARNING:tensorflow:Can save best model only with val_accuracy available, skipping.\n"
          ]
        },
        {
          "name": "stdout",
          "output_type": "stream",
          "text": [
            "\b\b\b\b\b\b\b\b\b\b\b\b\b\b\b\b\b\b\b\b\b\b\b\b\b\b\b\b\b\b\b\b\b\b\b\b\b\b\b\b\b\b\b\b\b\b\b\b\b\b\b\b\b\b\b\b\b\b\b\b\b\b\b\b\b\b\b\b\b\b\b\b\b\b\b\b\b\b\b\b\b\b\b\b\r251/251 [==============================] - 29s 114ms/step - loss: 0.0609 - Accuracy: 0.9759 - val_loss: 0.1540 - val_Accuracy: 0.9571 - lr: 2.5000e-04\n",
            "Epoch 29: early stopping\n"
          ]
        },
        {
          "data": {
            "text/plain": [
              "<keras.callbacks.History at 0x7f2055b5e6a0>"
            ]
          },
          "execution_count": 4,
          "metadata": {},
          "output_type": "execute_result"
        }
      ],
      "source": [
        "from tensorflow.keras.callbacks import ModelCheckpoint, LearningRateScheduler, ReduceLROnPlateau, CSVLogger, EarlyStopping \n",
        "\n",
        "callbacks = [\n",
        "  EarlyStopping(patience=10, verbose=1), \n",
        "  ReduceLROnPlateau(factor=0.5, cooldown=0, patience=6, min_lr=0.5e-6), \n",
        "  CSVLogger('Unet_model.csv'), \n",
        "  ModelCheckpoint(\"Unet_model.hdf5\", monitor='val_accuracy', verbose=1, save_best_only=True) \n",
        "]\n",
        "\n",
        "model.fit(X_train, y_train, batch_size=32, epochs=30, verbose=1, validation_data=(X_valid, y_valid), shuffle=True, callbacks=callbacks) "
      ]
    },
    {
      "cell_type": "code",
      "execution_count": null,
      "metadata": {
        "id": "ohU-E7qLqs9F"
      },
      "outputs": [],
      "source": []
    }
  ],
  "metadata": {
    "accelerator": "GPU",
    "colab": {
      "machine_shape": "hm",
      "provenance": []
    },
    "gpuClass": "premium",
    "kernelspec": {
      "display_name": "base",
      "language": "python",
      "name": "python3"
    },
    "language_info": {
      "name": "python",
      "version": "3.9.12 (main, Apr  4 2022, 05:22:27) [MSC v.1916 64 bit (AMD64)]"
    },
    "orig_nbformat": 4,
    "vscode": {
      "interpreter": {
        "hash": "f9b01f5dcf6eb49e98361bda3ea635f308f2cf3e384d6b27fe94cf5889827908"
      }
    }
  },
  "nbformat": 4,
  "nbformat_minor": 0
}
