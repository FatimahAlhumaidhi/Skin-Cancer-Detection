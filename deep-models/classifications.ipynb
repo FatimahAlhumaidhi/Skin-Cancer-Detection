{
 "cells": [
  {
   "cell_type": "code",
   "execution_count": null,
   "metadata": {},
   "outputs": [],
   "source": [
    "from models import getModel \n",
    "from dataloader import data_pipeline, data_pipeline_with_augmentation\n",
    "from tensorflow.keras.applications.efficientnet import EfficientNetB5\n",
    "from tensorflow.keras.applications.efficientnet_v2 import EfficientNetV2B3\n",
    "from tensorflow.keras.applications.resnet_v2 import ResNet50V2\n",
    "from tensorflow.keras.applications.inception_resnet_v2 import InceptionResNetV2\n",
    "from tensorflow.keras.applications.vgg16 import VGG16\n",
    "from tensorflow.keras.applications.mobilenet_v2 import MobileNetV2\n",
    "from tensorflow.keras.applications.regnet import RegNetX032 \n",
    "from tensorflow.keras.callbacks import ModelCheckpoint, LearningRateScheduler, ReduceLROnPlateau, CSVLogger, EarlyStopping \n",
    "import pandas as pd\n",
    "import pickle \n"
   ]
  },
  {
   "cell_type": "code",
   "execution_count": null,
   "metadata": {},
   "outputs": [],
   "source": [
    "preTrained = [\n",
    "    ('EfficientNetB5', EfficientNetB5),\n",
    "    ('EfficientNetV2B3', EfficientNetV2B3),\n",
    "    ('ResNet50V2', ResNet50V2),\n",
    "    ('InceptionResNetV2', InceptionResNetV2),\n",
    "    ('VGG16', VGG16),\n",
    "    ('MobileNetV2', MobileNetV2),\n",
    "    ('RegNetX032', RegNetX032)\n",
    "]"
   ]
  },
  {
   "cell_type": "code",
   "execution_count": null,
   "metadata": {},
   "outputs": [],
   "source": [
    "def train():\n",
    "    for preTrainedModel in preTrained:\n",
    "        trainDataset, validateDataset = data_pipeline() \n",
    "        model = getModel(preTrainedModel[1])\n",
    "\n",
    "        callbacks = [ \n",
    "            EarlyStopping(patience=10, verbose=1), \n",
    "            ReduceLROnPlateau(factor=0.5, cooldown=0, patience=3, min_lr=0.5e-6), \n",
    "            CSVLogger(f'{preTrainedModel[0]}_no_augmentation.csv'), \n",
    "            ModelCheckpoint(f'{preTrainedModel[0]}_no_augmentation.hdf5', monitor = 'val_accuracy',verbose = 1, save_best_only=True)\n",
    "        ]\n",
    "\n",
    "        model.fit(trainDataset, batch_size=4, epochs=30, verbose=1,validation_data=validateDataset, shuffle=False, callbacks=callbacks)\n",
    "        model.load_weights(f'{preTrainedModel[0]}_no_augmentation.hdf5')\n",
    "\n",
    "        results = model.get_metrics_result()\n",
    "        df = pd.DataFrame(results).transpose()\n",
    "\n",
    "        pickle.dump(df.to_latex(), open(f'{preTrainedModel[0]}_classification_report_acc={round(results)}.txt', 'wb'))\n"
   ]
  }
 ],
 "metadata": {
  "kernelspec": {
   "display_name": "base",
   "language": "python",
   "name": "python3"
  },
  "language_info": {
   "name": "python",
   "version": "3.9.12 (main, Apr  4 2022, 05:22:27) [MSC v.1916 64 bit (AMD64)]"
  },
  "orig_nbformat": 4,
  "vscode": {
   "interpreter": {
    "hash": "f9b01f5dcf6eb49e98361bda3ea635f308f2cf3e384d6b27fe94cf5889827908"
   }
  }
 },
 "nbformat": 4,
 "nbformat_minor": 2
}
