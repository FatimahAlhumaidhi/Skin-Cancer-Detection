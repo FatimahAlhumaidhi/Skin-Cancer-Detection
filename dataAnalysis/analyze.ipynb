{
 "cells": [
  {
   "cell_type": "code",
   "execution_count": 8,
   "metadata": {},
   "outputs": [],
   "source": [
    "import pandas as pd\n",
    "data2018 = pd.read_csv('HAM10000_metadata.csv')\n",
    "data2019 = pd.read_csv('ISIC_2019_Training_GroundTruth.csv')\n",
    "data2020 = pd.read_csv('ISIC_2020_Training_GroundTruth_v2.csv')"
   ]
  },
  {
   "cell_type": "code",
   "execution_count": 9,
   "metadata": {},
   "outputs": [
    {
     "name": "stdout",
     "output_type": "stream",
     "text": [
      "bkl 1099\n",
      "nv 6705\n",
      "df 115\n",
      "mel 1113\n",
      "vasc 142\n",
      "bcc 514\n",
      "akiec 327\n"
     ]
    }
   ],
   "source": [
    "types = data2018['dx'].drop_duplicates()\n",
    "for Type in types:\n",
    "    print(Type, data2018[data2018['dx'] == Type]['dx'].count())"
   ]
  },
  {
   "cell_type": "code",
   "execution_count": 14,
   "metadata": {},
   "outputs": [
    {
     "name": "stdout",
     "output_type": "stream",
     "text": [
      "MEL 4522\n",
      "NV 12875\n",
      "BCC 3323\n",
      "AK 867\n",
      "BKL 2624\n",
      "DF 239\n",
      "VASC 253\n",
      "SCC 628\n",
      "UNK 0\n"
     ]
    }
   ],
   "source": [
    "types = data2019.columns[1:]\n",
    "for Type in types:\n",
    "    print(Type, data2019[data2019[Type] == 1][Type].count())"
   ]
  },
  {
   "cell_type": "code",
   "execution_count": 5,
   "metadata": {},
   "outputs": [
    {
     "name": "stdout",
     "output_type": "stream",
     "text": [
      "benign 32542\n",
      "malegnant 584\n"
     ]
    }
   ],
   "source": [
    "print('benign', data2020[data2020['target'] == 0]['target'].count())\n",
    "print('malegnant', data2020[data2020['target'] == 1]['target'].count())"
   ]
  }
 ],
 "metadata": {
  "kernelspec": {
   "display_name": "Python 3.9.12 ('base')",
   "language": "python",
   "name": "python3"
  },
  "language_info": {
   "codemirror_mode": {
    "name": "ipython",
    "version": 3
   },
   "file_extension": ".py",
   "mimetype": "text/x-python",
   "name": "python",
   "nbconvert_exporter": "python",
   "pygments_lexer": "ipython3",
   "version": "3.9.12 (main, Apr  4 2022, 05:22:27) [MSC v.1916 64 bit (AMD64)]"
  },
  "orig_nbformat": 4,
  "vscode": {
   "interpreter": {
    "hash": "f9b01f5dcf6eb49e98361bda3ea635f308f2cf3e384d6b27fe94cf5889827908"
   }
  }
 },
 "nbformat": 4,
 "nbformat_minor": 2
}
