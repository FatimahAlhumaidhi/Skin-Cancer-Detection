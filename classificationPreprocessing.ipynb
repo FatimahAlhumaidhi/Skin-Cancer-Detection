{
 "cells": [
  {
   "cell_type": "code",
   "execution_count": null,
   "metadata": {},
   "outputs": [],
   "source": [
    "import cv2 \n",
    "import numpy as np \n",
    "import os \n",
    "import glob\n"
   ]
  },
  {
   "cell_type": "code",
   "execution_count": null,
   "metadata": {},
   "outputs": [],
   "source": [
    "def apply_mask(image, mask, imname):\n",
    "    mask = mask.astype(np.uint8)\n",
    "    seg = cv2.bitwise_and(image, image, mask=mask)*255.\n",
    "    newimage = cv2.cvtColor(seg, cv2.COLOR_RGB2BGR)\n",
    "    cv2.imwrite(os.path.join('classificationDataset', imname), newimage)\n",
    "    return seg\n"
   ]
  }
 ],
 "metadata": {
  "kernelspec": {
   "display_name": "base",
   "language": "python",
   "name": "python3"
  },
  "language_info": {
   "name": "python",
   "version": "3.9.12 (main, Apr  4 2022, 05:22:27) [MSC v.1916 64 bit (AMD64)]"
  },
  "orig_nbformat": 4,
  "vscode": {
   "interpreter": {
    "hash": "f9b01f5dcf6eb49e98361bda3ea635f308f2cf3e384d6b27fe94cf5889827908"
   }
  }
 },
 "nbformat": 4,
 "nbformat_minor": 2
}
