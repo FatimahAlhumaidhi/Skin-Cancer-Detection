{
 "cells": [
  {
   "cell_type": "code",
   "execution_count": 1,
   "metadata": {},
   "outputs": [],
   "source": [
    "import cv2 \n",
    "import numpy as np \n",
    "import os \n",
    "import glob"
   ]
  },
  {
   "cell_type": "code",
   "execution_count": 2,
   "metadata": {},
   "outputs": [],
   "source": [
    "IMAGESIZE = (256, 256)\n",
    "\n",
    "\n",
    "def preprocess(imagepath):\n",
    "    image = cv2.imread(imagepath)\n",
    "    grayScale = cv2.cvtColor(image, cv2.COLOR_RGB2GRAY)/255.\n",
    "    kernel = cv2.getStructuringElement(2, (4, 4)) \n",
    "    blackhat = cv2.morphologyEx(grayScale, cv2.MORPH_BLACKHAT, kernel)\n",
    "    bhg = cv2.GaussianBlur(blackhat, (3,3), cv2.BORDER_DEFAULT)\n",
    "    _, mask = cv2.threshold(bhg, 10, 255, cv2.THRESH_BINARY)\n",
    "    image = cv2.inpaint(image, mask, 8, cv2.INPAINT_TELEA) \n",
    "    cv2.imwrite(os.path.join('dataset256p', 'image', 'imgs', imagepath.split('\\\\')[-1]), 255*image)\n",
    "\n",
    "def preprocess_mask(maskPath):\n",
    "    mask = cv2.imread(maskPath)\n",
    "    mask = mask / 255.\n",
    "    mask[mask > 0.5] = 1\n",
    "    mask[mask <= 0.5] = 0\n",
    "    mask = cv2.resize(mask, IMAGESIZE)\n",
    "    cv2.imwrite(os.path.join('dataset256p', 'mask', 'imgs', maskPath.split('\\\\')[-1]), 255*mask)\n"
   ]
  },
  {
   "cell_type": "code",
   "execution_count": 4,
   "metadata": {},
   "outputs": [],
   "source": [
    "imagesPath = os.path.join('dataset', 'image', 'imgs', '*')\n",
    "masksPath = os.path.join('dataset', 'mask', 'imgs', '*')\n",
    "\n",
    "list_files = glob.glob(imagesPath)\n",
    "\n",
    "for image in list_files:\n",
    "   preprocess(image)\n",
    "   \n",
    "list_files = glob.glob(masksPath)\n",
    "\n",
    "for image in list_files:\n",
    "   preprocess_mask(image)\n"
   ]
  }
 ],
 "metadata": {
  "kernelspec": {
   "display_name": "base",
   "language": "python",
   "name": "python3"
  },
  "language_info": {
   "codemirror_mode": {
    "name": "ipython",
    "version": 3
   },
   "file_extension": ".py",
   "mimetype": "text/x-python",
   "name": "python",
   "nbconvert_exporter": "python",
   "pygments_lexer": "ipython3",
   "version": "3.9.12 (main, Apr  4 2022, 05:22:27) [MSC v.1916 64 bit (AMD64)]"
  },
  "orig_nbformat": 4,
  "vscode": {
   "interpreter": {
    "hash": "f9b01f5dcf6eb49e98361bda3ea635f308f2cf3e384d6b27fe94cf5889827908"
   }
  }
 },
 "nbformat": 4,
 "nbformat_minor": 2
}
